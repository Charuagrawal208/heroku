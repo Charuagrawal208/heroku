{
  "nbformat": 4,
  "nbformat_minor": 0,
  "metadata": {
    "colab": {
      "name": "DIP_LAB_8_ColorPalette.ipynb",
      "provenance": [],
      "collapsed_sections": [],
      "include_colab_link": true
    },
    "kernelspec": {
      "display_name": "Python 3",
      "name": "python3"
    }
  },
  "cells": [
    {
      "cell_type": "markdown",
      "metadata": {
        "id": "view-in-github",
        "colab_type": "text"
      },
      "source": [
        "<a href=\"https://colab.research.google.com/github/Charuagrawal208/heroku/blob/main/DIP_LAB_8_ColorPalette.ipynb\" target=\"_parent\"><img src=\"https://colab.research.google.com/assets/colab-badge.svg\" alt=\"Open In Colab\"/></a>"
      ]
    },
    {
      "cell_type": "markdown",
      "metadata": {
        "id": "ICQhQkbXaIV3"
      },
      "source": [
        "**IMPLEMENTING COLOR PALETTE IN COLAB**"
      ]
    },
    {
      "cell_type": "code",
      "metadata": {
        "id": "llz2nNRM31Lv"
      },
      "source": [
        "import numpy as np\n",
        "import pandas as pd\n",
        "import cv2 as cv\n",
        "from google.colab.patches import cv2_imshow # for image display\n",
        "from skimage import io\n",
        "from PIL import Image \n",
        "import matplotlib.pylab as plt\n",
        "#import matplotlib.image as mpimg \n",
        "#from matplotlib.pyplot import imshow\n",
        "#%matplotlib inline"
      ],
      "execution_count": null,
      "outputs": []
    },
    {
      "cell_type": "code",
      "metadata": {
        "id": "JUFvNNotaW-P"
      },
      "source": [
        "img = np.zeros((100,100,3), np.uint8)\n",
        "#cv2_imshow(img)\n",
        "#@title Color Palatte {run:\"auto\"} \n",
        "\n",
        "B = 175 #@param {type:\"slider\",min:0, max:255, step:1}\n",
        "G = 162 #@param {type:\"slider\",min:0, max:255, step:1}\n",
        "R = 122 #@param {type:\"slider\",min:0, max:255, step:1}\n",
        "CB = True #@param {type:\"boolean\"}\n",
        "print(B)\n",
        "print(R)\n",
        "print(G)\n",
        "print(CB)\n",
        "\n",
        "if CB == False:\n",
        "  img[:] = 0\n",
        "else:\n",
        "  img[:] = [B, G, R]\n",
        "\n",
        "cv2_imshow(img)\n"
      ],
      "execution_count": null,
      "outputs": []
    },
    {
      "cell_type": "code",
      "metadata": {
        "id": "HWkheie31zqZ"
      },
      "source": [
        "!pip install streamlit"
      ],
      "execution_count": null,
      "outputs": []
    },
    {
      "cell_type": "code",
      "metadata": {
        "id": "dbZRwFmm2-4p"
      },
      "source": [
        "!pip install pyngrok"
      ],
      "execution_count": null,
      "outputs": []
    },
    {
      "cell_type": "code",
      "metadata": {
        "id": "9XRaMwjH3B7_"
      },
      "source": [
        "!ngrok authtoken 1pKWvT09l8SzlVu0Ohh1x962lQk_87EdzkEcGZCrDbzzR6gYL"
      ],
      "execution_count": null,
      "outputs": []
    },
    {
      "cell_type": "code",
      "metadata": {
        "colab": {
          "base_uri": "https://localhost:8080/"
        },
        "id": "LcguMv_3tUGi",
        "outputId": "da886153-ced9-49ac-dc8e-9cd265f8f3f7"
      },
      "source": [
        "%%writefile app.py\n",
        "import streamlit as st \n",
        "from PIL import Image\n",
        "import pickle\n",
        "import numpy as np\n",
        "import matplotlib.pyplot as plt\n",
        "import pandas as pd\n",
        "import tensorflow as tf\n",
        "from keras.preprocessing import image\n",
        "import os\n",
        "from werkzeug.utils import secure_filename\n",
        "st.set_option('deprecation.showfileUploaderEncoding', False)\n",
        "from keras.models import load_model\n",
        "\n",
        "html_temp = \"\"\"\n",
        "   <div class=\"\" style=\"background-color:blue;\" >\n",
        "   <div class=\"clearfix\">           \n",
        "   <div class=\"col-md-12\">\n",
        "   <center><p style=\"font-size:40px;color:white;margin-top:10px;\">Poornima Institute of Engineering & Technology</p></center> \n",
        "   <center><p style=\"font-size:30px;color:white;margin-top:10px;\">Digital Image Processing lab</p></center> \n",
        "   </div>\n",
        "   </div>\n",
        "   </div>\n",
        "   \"\"\"\n",
        "st.markdown(html_temp,unsafe_allow_html=True)\n",
        "  \n",
        "st.title(\"\"\"\n",
        "        Collor Palette\n",
        "         \"\"\"\n",
        "         )\n",
        "file= st.file_uploader(\"Please upload image\", type=(\"jpg\", \"png\"))\n",
        "R = st.slider('R', min_value=0, max_value=255, step=1)\n",
        "G = st.slider('G', min_value=0, max_value=255, step=1)\n",
        "B = st.slider('B', min_value=0, max_value=255, step=1)\n",
        "\n",
        "import cv2\n",
        "from  PIL import Image, ImageOps\n",
        "def import_and_predict(image_data):\n",
        "  #img = image.load_img(image_data, target_size=(224, 224))\n",
        "  #image = image.img_to_array(img)\n",
        "  #img_reshap= np.expand_dims(image, axis=0)\n",
        "  #img_reshap = preprocess_input(img_reshap)\n",
        "   \n",
        "  image_data[:] = [R,G,B]\n",
        "  st.image(image_data, use_column_width=True)\n",
        "  return 0\n",
        "if file is None:\n",
        "  st.text(\"Please upload an Image file\")\n",
        "else:\n",
        "  file_bytes = np.asarray(bytearray(file.read()), dtype=np.uint8)\n",
        "  image = cv2.imdecode(file_bytes, 1)\n",
        "  st.image(file,caption='Uploaded Image.', use_column_width=True)\n",
        "    \n",
        "if st.button(\"Change Color\"):\n",
        "  result=import_and_predict(image)\n",
        "  \n",
        "if st.button(\"About\"):\n",
        "  st.header(\" xyz\")\n",
        "  st.subheader(\"Computer Engineering\")\n",
        "html_temp = \"\"\"\n",
        "   <div class=\"\" style=\"background-color:orange;\" >\n",
        "   <div class=\"clearfix\">           \n",
        "   <div class=\"col-md-12\">\n",
        "   <center><p style=\"font-size:20px;color:white;margin-top:10px;\">Digital Image processing Experiment</p></center> \n",
        "   </div>\n",
        "   </div>\n",
        "   </div>\n",
        "   \"\"\"\n",
        "st.markdown(html_temp,unsafe_allow_html=True)"
      ],
      "execution_count": null,
      "outputs": [
        {
          "output_type": "stream",
          "text": [
            "Writing app.py\n"
          ],
          "name": "stdout"
        }
      ]
    },
    {
      "cell_type": "code",
      "metadata": {
        "colab": {
          "base_uri": "https://localhost:8080/"
        },
        "id": "BBpKb8FXtOnd",
        "outputId": "97ade778-e211-4fa0-97b7-27deed88f897"
      },
      "source": [
        "!nohup streamlit run app.py &"
      ],
      "execution_count": null,
      "outputs": [
        {
          "output_type": "stream",
          "text": [
            "nohup: appending output to 'nohup.out'\n"
          ],
          "name": "stdout"
        }
      ]
    },
    {
      "cell_type": "code",
      "metadata": {
        "colab": {
          "base_uri": "https://localhost:8080/"
        },
        "id": "j12Nq2-53EaX",
        "outputId": "b6c189b1-c13b-4b5e-c327-df4288a0f4f5"
      },
      "source": [
        "from pyngrok import ngrok\n",
        "url=ngrok.connect(port='8050')\n",
        "url"
      ],
      "execution_count": null,
      "outputs": [
        {
          "output_type": "execute_result",
          "data": {
            "text/plain": [
              "<NgrokTunnel: \"http://e86914339cd9.ngrok.io\" -> \"http://localhost:80\">"
            ]
          },
          "metadata": {
            "tags": []
          },
          "execution_count": 36
        }
      ]
    },
    {
      "cell_type": "code",
      "metadata": {
        "colab": {
          "background_save": true,
          "base_uri": "https://localhost:8080/"
        },
        "id": "xXu9FID4WECC",
        "outputId": "d4d9d3f2-4662-428e-995d-0c44f404b523"
      },
      "source": [
        " !streamlit run --server.port 80 app.py"
      ],
      "execution_count": null,
      "outputs": [
        {
          "output_type": "stream",
          "text": [
            "2021-06-09 06:08:11.488 An update to the [server] config option section was detected. To have these changes be reflected, please restart streamlit.\n",
            "2021-06-09 06:08:11.983413: I tensorflow/stream_executor/platform/default/dso_loader.cc:53] Successfully opened dynamic library libcudart.so.11.0\n",
            "\u001b[0m\n",
            "\u001b[34m\u001b[1m  You can now view your Streamlit app in your browser.\u001b[0m\n",
            "\u001b[0m\n",
            "\u001b[34m  Network URL: \u001b[0m\u001b[1mhttp://172.28.0.2:80\u001b[0m\n",
            "\u001b[34m  External URL: \u001b[0m\u001b[1mhttp://34.91.163.141:80\u001b[0m\n",
            "\u001b[0m\n"
          ],
          "name": "stdout"
        }
      ]
    }
  ]
}
